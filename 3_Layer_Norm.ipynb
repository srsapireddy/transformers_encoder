{
  "nbformat": 4,
  "nbformat_minor": 0,
  "metadata": {
    "colab": {
      "name": "3. Layer Norm.ipynb",
      "provenance": []
    },
    "kernelspec": {
      "name": "python3",
      "display_name": "Python 3"
    },
    "language_info": {
      "name": "python"
    }
  },
  "cells": [
    {
      "cell_type": "code",
      "execution_count": null,
      "metadata": {
        "id": "7tVmplQuCgRw"
      },
      "outputs": [],
      "source": [
        "import torch.nn as nn\n",
        "import torch\n",
        "\n",
        "\n",
        "class ResidualLayerNorm(nn.Module):\n",
        "    def __init__(self, d_model, dropout=0.3):\n",
        "        super().__init__()\n",
        "        self.layer_norm = nn.LayerNorm(d_model)\n",
        "        self.dropout = nn.Dropout(dropout)\n",
        "\n",
        "    def forward(self, x, residual):\n",
        "        ln = self.layer_norm(self.dropout(x) + residual)\n",
        "        return ln"
      ]
    },
    {
      "cell_type": "code",
      "source": [
        "encodings = torch.Tensor([[[0.0, 0.1, 0.2, 0.3], [1.0, 1.1, 1.2, 1.3], [2.0, 2.1, 2.2, 2.3]]]) \n",
        "prev_x = torch.randn(1, 3, 4)\n",
        "norm_layer = ResidualLayerNorm(d_model=4)\n",
        "norm = norm_layer(encodings, prev_x)\n",
        "print(\"Norm: \\n\", norm)\n",
        "print(\"Norm shape: \\n\", norm.shape)"
      ],
      "metadata": {
        "colab": {
          "base_uri": "https://localhost:8080/"
        },
        "id": "JnSdrCZ0C-tM",
        "outputId": "26d03360-5242-4d39-b206-214d67e9cd79"
      },
      "execution_count": 7,
      "outputs": [
        {
          "output_type": "stream",
          "name": "stdout",
          "text": [
            "Norm: \n",
            " tensor([[[ 1.0035, -1.3599, -0.5567,  0.9131],\n",
            "         [-1.2132,  0.2421,  1.4849, -0.5138],\n",
            "         [ 0.1830, -0.5591, -1.1505,  1.5266]]],\n",
            "       grad_fn=<NativeLayerNormBackward0>)\n",
            "Norm shape: \n",
            " torch.Size([1, 3, 4])\n"
          ]
        }
      ]
    }
  ]
}